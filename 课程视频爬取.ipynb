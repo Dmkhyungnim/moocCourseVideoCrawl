{
 "cells": [
  {
   "cell_type": "markdown",
   "metadata": {},
   "source": [
    "<h1 align=center>课程视频信息爬取</h1> "
   ]
  },
  {
   "cell_type": "code",
   "execution_count": 4,
   "metadata": {},
   "outputs": [],
   "source": [
    "from selenium import webdriver\n",
    "from selenium.webdriver.common.by import By\n",
    "import time\n",
    "import csv\n",
    "\n",
    "'''获取视频信息'''\n",
    "def getVideo(search_key):\n",
    "    '''模拟填表'''\n",
    "    chdriver.find_element(By.XPATH,'/html/body/div[4]/div[1]/div/div/div/div/div[7]/div[1]/div/div/div[1]/div/div/div/div/div[1]/div/input').send_keys(search_key)\n",
    "    '''模拟点击'''\n",
    "    chdriver.find_element(By.XPATH,'/html/body/div[4]/div[1]/div/div/div/div/div[7]/div[1]/div/div/div[2]/span').click()\n",
    "    "
   ]
  },
  {
   "cell_type": "code",
   "execution_count": 5,
   "metadata": {},
   "outputs": [],
   "source": [
    "'''页面数据解析'''\n",
    "def parseData():\n",
    "    '''获取视频'''\n",
    "    divs = chdriver.find_elements_by_css_selector('.g-mn1c')\n",
    "    \n",
    "    for x in divs:\n",
    "        \n",
    "        '''视频课程名称'''\n",
    "        vidname = x.find_element_by_css_selector(\\\n",
    "                    'span.u-course-name.f-thide').text\n",
    "        \n",
    "        '''课程所属学校及讲师'''\n",
    "        lis = x.find_element_by_css_selector(\\\n",
    "                      'div.t2.f-fc3.f-nowrp.f-f0').text\n",
    "        lists=[]\n",
    "        lists=lis.split(' ')\n",
    "        '''课程学校'''\n",
    "        vidschool=lists[0]\n",
    "        del(lists[0])\n",
    "        '''课程讲师'''\n",
    "        vidteacher=\"\".join(lists)\n",
    "        \n",
    "        '''课程参加人数'''\n",
    "        vidpeople = x.find_element_by_css_selector(\\\n",
    "                     'span.hot').text\n",
    "        \n",
    "        '''课程当前情况'''\n",
    "        vidcurrent = x.find_element_by_css_selector(\\\n",
    "                     'span.txt').text\n",
    "        \n",
    "        '''打印信息'''\n",
    "        print(vidname+','+vidschool+','+vidteacher+','+vidpeople+','+vidcurrent)\n",
    "        \n",
    "        '''将信息存入csv文件'''\n",
    "        with open('mooc视频课程数据.csv',mode='a',encoding='utf-8',\\\n",
    "                  newline='') as f:\n",
    "            csvwrt = csv.writer(f)\n",
    "            '''自行添加price列进行输出保存'''\n",
    "            csvwrt.writerow([vidname,vidschool,vidteacher,vidpeople,vidcurrent])"
   ]
  },
  {
   "cell_type": "code",
   "execution_count": 6,
   "metadata": {},
   "outputs": [
    {
     "name": "stdout",
     "output_type": "stream",
     "text": [
      "请输入要查询的课程web前端\n"
     ]
    },
    {
     "name": "stderr",
     "output_type": "stream",
     "text": [
      "<ipython-input-5-45dc7f91eacc>:4: DeprecationWarning: find_elements_by_css_selector is deprecated. Please use find_elements(by=By.CSS_SELECTOR, value=css_selector) instead\n",
      "  divs = chdriver.find_elements_by_css_selector('.g-mn1c')\n"
     ]
    },
    {
     "name": "stdout",
     "output_type": "stream",
     "text": [
      "Web前端开发,北京林业大学,孙俏、王新阳、付慧、祖明,12860人参加,进行至第13周\n",
      "Web前端设计,浙江财经大学,陈明晶,1319人参加,进行至第12周\n",
      "Web前端设计基础,北京联合大学,王晓红、李立威、薛晓霞、王艳娥,859人参加,进行至第9周\n",
      "Web前端技术,宁波城市职业技术学院,卢秋锦,494人参加,进行至第13周\n",
      "Web前端设计,洛阳科技职业学院,徐好芹、韩英、韩慧杰、霍文英、周文文、沈桂芳、宁斐、赵迪,2010人参加,进行至第13周\n",
      "Web前端开发技术,长沙航空职业技术学院,蓝桂芳、林巧、钟平、刘新桥,568人参加,进行至第12周\n",
      "Angular Web前端框架开发基础,北方工业大学,杜春涛,544人参加,进行至第14周\n",
      "web前端开发基础,常州工程职业技术学院,李琳、冯益斌,1236人参加,已结束\n",
      "Web网站开发,武汉交通职业学院,熊慧、沈卫文、曾怡、吴蜜、胡迎九,686人参加,进行至第3周\n",
      "Web编程技术,西安交通大学,谢涛、齐琪,2208人参加,进行至第11周\n",
      "数据可视化,中国传媒大学,李春芳,1330人参加,进行至第9周\n",
      "Python云端系统开发入门,北京理工大学,嵩天、黄天羽,98674人参加,已结束，可查看内容\n",
      "Web GIS原理与应用,河南大学,秦耀辰、付品德、闫卫阳、夏浩铭、宋宏权、常捷、陈郁、马晓哲、宋根鑫、李宁,640人参加,进行至第9周\n",
      "前端与后台的故事-sql语言及其编程,九江职业技术学院,占跃华、章雯、孔梦楠、李博文、石晓芬、熊燕龙,964人参加,进行至第8周\n",
      "HTML5移动应用开发,河北软件职业技术学院,来继敏、郭春雷、张莹、丁宏伟、崔秀艳、贺晨、薛玉倩、刘红艳,331人参加,进行至第6周\n",
      "电子商务前端开发技术,浙江商业职业技术学院,孔勇奇,228人参加,进行至第6周\n",
      "零基础做毕业设计（Web开发与创新创业思维）,首都经济贸易大学,刘经纬,2390人参加,进行至第63周\n",
      "Java Web开发基础,广东轻工职业技术学院,张婵、罗佳、古凌岚、吴绍根,3322人参加,进行至第11周\n",
      "电子商务系统的分析与设计,北京交通大学,马敏书,645人参加,进行至第12周\n",
      "HTML5网页前端设计,青岛职业技术学院,苗彩霞、常中华、高桂霞、刘志敏,819人参加,进行至第11周\n"
     ]
    }
   ],
   "source": [
    "sr_kw = input('请输入要查询的课程')\n",
    "\n",
    "'''创建模拟chrome浏览器对象'''\n",
    "chdriver = webdriver.Chrome()\n",
    "chdriver.get('https://www.icourse163.org/')\n",
    "chdriver.maximize_window()\n",
    "\n",
    "getVideo(sr_kw)\n",
    "'''模拟浏览器不关闭的情况下运行，查看输出csv'''\n",
    "parseData()"
   ]
  }
 ],
 "metadata": {
  "kernelspec": {
   "display_name": "Python 3",
   "language": "python",
   "name": "python3"
  },
  "language_info": {
   "codemirror_mode": {
    "name": "ipython",
    "version": 3
   },
   "file_extension": ".py",
   "mimetype": "text/x-python",
   "name": "python",
   "nbconvert_exporter": "python",
   "pygments_lexer": "ipython3",
   "version": "3.8.8"
  }
 },
 "nbformat": 4,
 "nbformat_minor": 1
}
